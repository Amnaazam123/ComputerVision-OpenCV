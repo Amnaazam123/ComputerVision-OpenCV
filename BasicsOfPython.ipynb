{
 "cells": [
  {
   "cell_type": "code",
   "execution_count": 2,
   "metadata": {},
   "outputs": [
    {
     "name": "stdout",
     "output_type": "stream",
     "text": [
      "What is your name?Amna\n",
      "Hi!  Amna\n"
     ]
    }
   ],
   "source": [
    "#taking input in python\n",
    "#input function returns string\n",
    "name=input(\"What is your name? \");\n",
    "print(\"Hi! \" , name);"
   ]
  },
  {
   "cell_type": "code",
   "execution_count": 3,
   "metadata": {},
   "outputs": [
    {
     "name": "stdout",
     "output_type": "stream",
     "text": [
      "<class 'int'> <class 'float'> <class 'str'> <class 'str'>\n"
     ]
    }
   ],
   "source": [
    "#data types\n",
    "a=10\n",
    "b=1.1\n",
    "c=\"double quoted string\"\n",
    "d='single quoted string'\n",
    "print(type(a),type(b),type(c),type(d))"
   ]
  },
  {
   "cell_type": "code",
   "execution_count": 5,
   "metadata": {
    "scrolled": true
   },
   "outputs": [
    {
     "name": "stdout",
     "output_type": "stream",
     "text": [
      "20\n"
     ]
    }
   ],
   "source": [
    "value=10+10\n",
    "print(value)"
   ]
  },
  {
   "cell_type": "code",
   "execution_count": 9,
   "metadata": {
    "scrolled": true
   },
   "outputs": [
    {
     "name": "stdout",
     "output_type": "stream",
     "text": [
      "Enter any integer number : 123\n",
      "<class 'str'>\n",
      "133\n"
     ]
    }
   ],
   "source": [
    "number=input(\"Enter any integer number : \")\n",
    "print(type(number))\n",
    "result=int(number)+10\n",
    "print(result)"
   ]
  },
  {
   "cell_type": "code",
   "execution_count": 10,
   "metadata": {},
   "outputs": [
    {
     "name": "stdout",
     "output_type": "stream",
     "text": [
      "15\n"
     ]
    }
   ],
   "source": [
    "text=\"I am Amna Azam.\"\n",
    "print(len(text))"
   ]
  },
  {
   "cell_type": "code",
   "execution_count": 11,
   "metadata": {},
   "outputs": [
    {
     "name": "stdout",
     "output_type": "stream",
     "text": [
      "Amna Azam\n"
     ]
    }
   ],
   "source": [
    "str = \"Amna\"+\" Azam\"\n",
    "print(str)"
   ]
  },
  {
   "cell_type": "code",
   "execution_count": 12,
   "metadata": {},
   "outputs": [
    {
     "name": "stdout",
     "output_type": "stream",
     "text": [
      "Amna Amna Amna Amna Amna Amna Amna Amna Amna Amna \n"
     ]
    }
   ],
   "source": [
    "print(\"Amna \"*10)"
   ]
  },
  {
   "cell_type": "code",
   "execution_count": 13,
   "metadata": {},
   "outputs": [
    {
     "name": "stdout",
     "output_type": "stream",
     "text": [
      "Amna\n"
     ]
    }
   ],
   "source": [
    "#slicing\n",
    "name=\"Amna Azam\"\n",
    "print(name[0:4])          #name[0],name[1],name[2],name[3]"
   ]
  },
  {
   "cell_type": "code",
   "execution_count": 14,
   "metadata": {},
   "outputs": [
    {
     "name": "stdout",
     "output_type": "stream",
     "text": [
      "<class 'int'>\n"
     ]
    }
   ],
   "source": [
    "name=\"AMNA AZAM\"\n",
    "name=10\n",
    "print(type(name))"
   ]
  },
  {
   "cell_type": "code",
   "execution_count": 15,
   "metadata": {},
   "outputs": [
    {
     "name": "stdout",
     "output_type": "stream",
     "text": [
      "amna azam\n"
     ]
    }
   ],
   "source": [
    "name=\"AMNA AZAM\"\n",
    "name=name.lower();\n",
    "print(name)"
   ]
  },
  {
   "cell_type": "code",
   "execution_count": 16,
   "metadata": {},
   "outputs": [
    {
     "name": "stdout",
     "output_type": "stream",
     "text": [
      "AMNA AZAM\n"
     ]
    }
   ],
   "source": [
    "name=\"amna azam\"\n",
    "name=name.upper()\n",
    "print(name)"
   ]
  },
  {
   "cell_type": "code",
   "execution_count": 17,
   "metadata": {},
   "outputs": [
    {
     "name": "stdout",
     "output_type": "stream",
     "text": [
      "Amna azam\n"
     ]
    }
   ],
   "source": [
    "name=\"amna azam\"\n",
    "name = name.capitalize()\n",
    "print(name)"
   ]
  },
  {
   "cell_type": "code",
   "execution_count": 18,
   "metadata": {},
   "outputs": [
    {
     "name": "stdout",
     "output_type": "stream",
     "text": [
      "Amna Azam\n"
     ]
    }
   ],
   "source": [
    "name=\"amna azam\"\n",
    "name=name.title()\n",
    "print(name)"
   ]
  },
  {
   "cell_type": "code",
   "execution_count": 20,
   "metadata": {},
   "outputs": [
    {
     "name": "stdout",
     "output_type": "stream",
     "text": [
      "amna azam\n"
     ]
    }
   ],
   "source": [
    "name = \"amna azam\"\n",
    "name.replace('a','A')\n",
    "print(name)"
   ]
  },
  {
   "cell_type": "code",
   "execution_count": 21,
   "metadata": {},
   "outputs": [
    {
     "name": "stdout",
     "output_type": "stream",
     "text": [
      "AmnA AzAm\n"
     ]
    }
   ],
   "source": [
    "name = \"Amna azam\"\n",
    "name = name.replace('a','A')\n",
    "print(name)"
   ]
  },
  {
   "cell_type": "code",
   "execution_count": 26,
   "metadata": {},
   "outputs": [
    {
     "name": "stdout",
     "output_type": "stream",
     "text": [
      "amna azam\n"
     ]
    }
   ],
   "source": [
    "name=\"amna azam\"\n",
    "name=name.replace(\"a\",\"A\",0)             #0=count of occurances\n",
    "print(name)"
   ]
  },
  {
   "cell_type": "code",
   "execution_count": 28,
   "metadata": {},
   "outputs": [
    {
     "name": "stdout",
     "output_type": "stream",
     "text": [
      "Amna azam\n"
     ]
    }
   ],
   "source": [
    "name=\"amna azam\"\n",
    "name=name.replace(\"a\",\"A\",1)             #1=fist 1 occurance\n",
    "print(name)"
   ]
  },
  {
   "cell_type": "code",
   "execution_count": 29,
   "metadata": {},
   "outputs": [
    {
     "name": "stdout",
     "output_type": "stream",
     "text": [
      "AmnA azam\n"
     ]
    }
   ],
   "source": [
    "name=\"amna azam\"\n",
    "name=name.replace(\"a\",\"A\",2)             #2=fist 2 occurance\n",
    "print(name)"
   ]
  },
  {
   "cell_type": "code",
   "execution_count": 31,
   "metadata": {},
   "outputs": [
    {
     "name": "stdout",
     "output_type": "stream",
     "text": [
      "['Amna', 'Azam']\n",
      "<class 'list'>\n"
     ]
    }
   ],
   "source": [
    "name=\"Amna Azam\"\n",
    "name=name.split(' ');\n",
    "print(name)\n",
    "print(type(name))"
   ]
  },
  {
   "cell_type": "code",
   "execution_count": 32,
   "metadata": {},
   "outputs": [
    {
     "name": "stdout",
     "output_type": "stream",
     "text": [
      "True\n"
     ]
    }
   ],
   "source": [
    "name=\"Amna Azam\"\n",
    "isAmna = \"Amna\" in name                #is Amna is in string\n",
    "print(isAmna)"
   ]
  },
  {
   "cell_type": "code",
   "execution_count": 37,
   "metadata": {},
   "outputs": [
    {
     "name": "stdout",
     "output_type": "stream",
     "text": [
      "I am Amna Azam\n"
     ]
    }
   ],
   "source": [
    "firstName=\"Amna\"\n",
    "lastName=\"Azam\"\n",
    "myText=\"I am {} {}\"\n",
    "print(myText.format(firstName,lastName))"
   ]
  },
  {
   "cell_type": "code",
   "execution_count": 41,
   "metadata": {},
   "outputs": [
    {
     "name": "stdout",
     "output_type": "stream",
     "text": [
      "rounded value:  2\n",
      "This num's accuracy is 2.10\n"
     ]
    }
   ],
   "source": [
    "num=2.09876123738\n",
    "print(\"rounded value: \",round(num))\n",
    "myStr=\"This num's accuracy is {:.2f}\"\n",
    "print(myStr.format(num))"
   ]
  },
  {
   "cell_type": "code",
   "execution_count": 44,
   "metadata": {},
   "outputs": [
    {
     "name": "stdout",
     "output_type": "stream",
     "text": [
      "True\n",
      "True\n",
      "True\n"
     ]
    }
   ],
   "source": [
    "x=3\n",
    "y=3\n",
    "print(x==y)\n",
    "x=3\n",
    "y=4\n",
    "print(x<y and x==3)\n",
    "print(x<y or x==2)"
   ]
  },
  {
   "cell_type": "code",
   "execution_count": null,
   "metadata": {},
   "outputs": [],
   "source": []
  }
 ],
 "metadata": {
  "kernelspec": {
   "display_name": "Python 3",
   "language": "python",
   "name": "python3"
  },
  "language_info": {
   "codemirror_mode": {
    "name": "ipython",
    "version": 3
   },
   "file_extension": ".py",
   "mimetype": "text/x-python",
   "name": "python",
   "nbconvert_exporter": "python",
   "pygments_lexer": "ipython3",
   "version": "3.8.5"
  }
 },
 "nbformat": 4,
 "nbformat_minor": 4
}
