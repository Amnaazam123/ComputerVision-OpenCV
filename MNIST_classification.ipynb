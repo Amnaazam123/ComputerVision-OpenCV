{
  "nbformat": 4,
  "nbformat_minor": 0,
  "metadata": {
    "colab": {
      "name": "MNIST_classification.ipynb",
      "provenance": [],
      "collapsed_sections": []
    },
    "kernelspec": {
      "name": "python3",
      "display_name": "Python 3"
    },
    "language_info": {
      "name": "python"
    }
  },
  "cells": [
    {
      "cell_type": "code",
      "execution_count": 1,
      "metadata": {
        "id": "9YRAsjaU1AmB"
      },
      "outputs": [],
      "source": [
        "import numpy as np\n",
        "import matplotlib.pyplot as plt\n",
        "# recognize this file about drive\n",
        "from google.colab import drive "
      ]
    },
    {
      "cell_type": "code",
      "source": [
        "#give this file access to your drive\n",
        "drive.mount(\"/content/drive\")"
      ],
      "metadata": {
        "colab": {
          "base_uri": "https://localhost:8080/"
        },
        "id": "ol-WMkk81Zn6",
        "outputId": "c5696be7-206b-4bf0-aac4-4852408c6273"
      },
      "execution_count": 2,
      "outputs": [
        {
          "output_type": "stream",
          "name": "stdout",
          "text": [
            "Mounted at /content/drive\n"
          ]
        }
      ]
    },
    {
      "cell_type": "code",
      "source": [
        "#to show all files and folders in list in mentioned path\n",
        "# /content/drive/ is used as prefix in path.\n",
        "!ls \"/content/drive/My Drive/Deep_Learning_Code/\""
      ],
      "metadata": {
        "colab": {
          "base_uri": "https://localhost:8080/"
        },
        "id": "Ex3bLk9C1Zzn",
        "outputId": "1b3ae254-2a91-4721-8572-cf26be3194b6"
      },
      "execution_count": 4,
      "outputs": [
        {
          "output_type": "stream",
          "name": "stdout",
          "text": [
            " Digits\t\t\t   Image_Classification.ipynb\n",
            "'Fully Connected_NN.PNG'   MNIST_Classification.ipynb\n"
          ]
        }
      ]
    },
    {
      "cell_type": "code",
      "source": [
        "#The OS module in Python provides functions for creating, modifying, adding and removing a directory (folder).\n",
        "#TensorFlow is a free and open-source software library for machine learning and artificial intelligence.\n",
        "#keras is used to make the implementation of neural networks easy.\n",
        "\n",
        "import os\n",
        "from tensorflow.keras.utils import to_categorical"
      ],
      "metadata": {
        "id": "whhPjztt1Z5a"
      },
      "execution_count": 7,
      "outputs": []
    },
    {
      "cell_type": "code",
      "source": [
        "images = []\n",
        "labels = []"
      ],
      "metadata": {
        "id": "KuS1pcK01Z8A"
      },
      "execution_count": 8,
      "outputs": []
    },
    {
      "cell_type": "code",
      "source": [
        "path=\"/content/drive/My Drive/Deep_Learning_Code/Digits/\"\n",
        "#getting all the folders of Digits in list\n",
        "foldersInDigits = os.listdir(path)\n",
        "print(\"Name of all those folders which are in Digits folder : \", foldersInDigits)"
      ],
      "metadata": {
        "colab": {
          "base_uri": "https://localhost:8080/"
        },
        "id": "L1Voxna51Z-1",
        "outputId": "376e7a9a-8f7f-45e2-d437-5c1d7607b123"
      },
      "execution_count": 24,
      "outputs": [
        {
          "output_type": "stream",
          "name": "stdout",
          "text": [
            "Name of all those folders which are in Digits folder :  ['4', '6', '8', '7', '3', '5', '9', '1', '0', '2']\n"
          ]
        }
      ]
    },
    {
      "cell_type": "code",
      "source": [
        "\n",
        "filesInDigit0 = os.listdir(path+\"0/\")\n",
        "filesInDigit0"
      ],
      "metadata": {
        "colab": {
          "base_uri": "https://localhost:8080/"
        },
        "id": "LksstNkd9yeF",
        "outputId": "bea6a97d-f01c-41ca-fc32-5c2c23758f5b"
      },
      "execution_count": 26,
      "outputs": [
        {
          "output_type": "execute_result",
          "data": {
            "text/plain": [
              "['img_322.jpg',\n",
              " 'img_260.jpg',\n",
              " 'img_5.jpg',\n",
              " 'img_183.jpg',\n",
              " 'img_114.jpg',\n",
              " 'img_404.jpg',\n",
              " 'img_502.jpg',\n",
              " 'img_373.jpg',\n",
              " 'img_146.jpg',\n",
              " 'img_286.jpg',\n",
              " 'img_110.jpg',\n",
              " 'img_54.jpg',\n",
              " 'img_248.jpg',\n",
              " 'img_279.jpg',\n",
              " 'img_153.jpg',\n",
              " 'img_200.jpg',\n",
              " 'img_418.jpg',\n",
              " 'img_375.jpg',\n",
              " 'img_157.jpg',\n",
              " 'img_23.jpg',\n",
              " 'img_1.jpg',\n",
              " 'img_251.jpg',\n",
              " 'img_292.jpg',\n",
              " 'img_201.jpg',\n",
              " 'img_327.jpg',\n",
              " 'img_435.jpg',\n",
              " 'img_267.jpg',\n",
              " 'img_433.jpg',\n",
              " 'img_273.jpg',\n",
              " 'img_542.jpg',\n",
              " 'img_98.jpg',\n",
              " 'img_403.jpg',\n",
              " 'img_111.jpg',\n",
              " 'img_204.jpg',\n",
              " 'img_141.jpg',\n",
              " 'img_486.jpg',\n",
              " 'img_508.jpg',\n",
              " 'img_272.jpg',\n",
              " 'img_196.jpg',\n",
              " 'img_285.jpg',\n",
              " 'img_264.jpg',\n",
              " 'img_276.jpg',\n",
              " 'img_195.jpg',\n",
              " 'img_203.jpg',\n",
              " 'img_366.jpg',\n",
              " 'img_344.jpg',\n",
              " 'img_188.jpg',\n",
              " 'img_17.jpg',\n",
              " 'img_149.jpg',\n",
              " 'img_357.jpg',\n",
              " 'img_129.jpg',\n",
              " 'img_4.jpg',\n",
              " 'img_108.jpg',\n",
              " 'img_538.jpg',\n",
              " 'img_472.jpg',\n",
              " 'img_412.jpg',\n",
              " 'img_288.jpg',\n",
              " 'img_63.jpg',\n",
              " 'img_193.jpg',\n",
              " 'img_69.jpg']"
            ]
          },
          "metadata": {},
          "execution_count": 26
        }
      ]
    },
    {
      "cell_type": "code",
      "source": [
        "#iterating all the files that exist in digits (0,1,2,3,4,5,6,7,8,9)\n",
        "for folder in foldersInDigits:\n",
        "  #iterarting each of the folder of Digits (inside 0, inside 1,inside 2,....)\n",
        "  fileNames = os.listdir(path + folder + \"/\")\n",
        "  for files in fileNames:\n",
        "    img = plt.imread(path + folder + \"/\" + files)\n",
        "    #making the list of all images\n",
        "    images.append(img)\n",
        "    #making the list of all labels\n",
        "    labels.append(int(folder))\n"
      ],
      "metadata": {
        "id": "4A1oUunL1aCN"
      },
      "execution_count": 31,
      "outputs": []
    },
    {
      "cell_type": "code",
      "source": [
        "#there is a list of 600 images \n",
        "print(len(images))"
      ],
      "metadata": {
        "colab": {
          "base_uri": "https://localhost:8080/"
        },
        "id": "FwydLW-i9EaX",
        "outputId": "2d921e5c-1d98-4a88-de84-37bc5d158581"
      },
      "execution_count": 35,
      "outputs": [
        {
          "output_type": "stream",
          "name": "stdout",
          "text": [
            "600\n"
          ]
        }
      ]
    },
    {
      "cell_type": "code",
      "source": [
        "#there is a list of 600 labels ranging from 0-9(because folder names were from 0-9)\n",
        "print(len(labels))"
      ],
      "metadata": {
        "colab": {
          "base_uri": "https://localhost:8080/"
        },
        "id": "jhgqZByg1aFE",
        "outputId": "8fceec96-0431-4a35-d3f9-1887945e611f"
      },
      "execution_count": 36,
      "outputs": [
        {
          "output_type": "stream",
          "name": "stdout",
          "text": [
            "600\n"
          ]
        }
      ]
    },
    {
      "cell_type": "code",
      "source": [
        "#covert list to array\n",
        "images = np.array(images)\n",
        "labels = np.array(labels)\n"
      ],
      "metadata": {
        "id": "MruBOfB51aIE"
      },
      "execution_count": 37,
      "outputs": []
    },
    {
      "cell_type": "code",
      "source": [
        "plt.imshow(images[0])\n",
        "print(labels[0])"
      ],
      "metadata": {
        "colab": {
          "base_uri": "https://localhost:8080/",
          "height": 282
        },
        "id": "triIkwfz1aLY",
        "outputId": "cf507a40-3043-4568-901a-4247b6d99590"
      },
      "execution_count": 40,
      "outputs": [
        {
          "output_type": "stream",
          "name": "stdout",
          "text": [
            "4\n"
          ]
        },
        {
          "output_type": "display_data",
          "data": {
            "text/plain": [
              "<Figure size 432x288 with 1 Axes>"
            ],
            "image/png": "[encoded data removed]"
          },
          "metadata": {
            "needs_background": "light"
          }
        }
      ]
    },
    {
      "cell_type": "code",
      "source": [
        "from sklearn.model_selection import train_test_split\n",
        "# test_size=0.2 it means there must be 20% of total images i.e. 600 = 120 images, test images\n",
        "#random_state => controls the shuffling process, random_state = 0 means get the same train and test sets across different executions. aik dfa shuffle ho janay k baad jo result aye hmesha wahi rakhna\n",
        "#shuffle=True => as images shuffle, labels must be shuffled accordingly.\n",
        "train_images, test_images, train_labels, test_labels = train_test_split(images, labels, test_size=0.20, random_state=0, shuffle=True)"
      ],
      "metadata": {
        "id": "3bpnFg8wA1WU"
      },
      "execution_count": 50,
      "outputs": []
    },
    {
      "cell_type": "code",
      "source": [
        "#there are 600 images(480 images are train images and 120 images are test image)\n",
        "print(images.shape)"
      ],
      "metadata": {
        "colab": {
          "base_uri": "https://localhost:8080/"
        },
        "id": "wdKTFvu4FMLS",
        "outputId": "65f521d7-c7b7-453b-d762-b810a5218a10"
      },
      "execution_count": 60,
      "outputs": [
        {
          "output_type": "stream",
          "name": "stdout",
          "text": [
            "(600, 28, 28)\n"
          ]
        }
      ]
    },
    {
      "cell_type": "code",
      "source": [
        "#There are 480 training images of 28x28 size. (480 boxes => each box has 28 rows, one col in each row has 28 coloumns)\n",
        "#480 boxes => each box is of size 28 by 28 so we can predict as 2d image(gray scale image) of size 28 by 28. \n",
        "print(train_images.shape)"
      ],
      "metadata": {
        "colab": {
          "base_uri": "https://localhost:8080/"
        },
        "id": "eYRbnysQA1ZP",
        "outputId": "a6b1ac4f-7c0d-4d54-da44-b1d30729a8e5"
      },
      "execution_count": 59,
      "outputs": [
        {
          "output_type": "stream",
          "name": "stdout",
          "text": [
            "(480, 28, 28)\n"
          ]
        }
      ]
    },
    {
      "cell_type": "code",
      "source": [
        "#train_labels is one d array containing one label against each image.\n",
        "#if we have 480 train images, then there must be 480 lebels for each image.\n",
        "print(train_labels.shape)"
      ],
      "metadata": {
        "colab": {
          "base_uri": "https://localhost:8080/"
        },
        "id": "eUsYvEV2EdVt",
        "outputId": "e94218c8-b9a8-4b31-f59a-5e1f25ee341d"
      },
      "execution_count": 58,
      "outputs": [
        {
          "output_type": "stream",
          "name": "stdout",
          "text": [
            "(480,)\n"
          ]
        }
      ]
    },
    {
      "cell_type": "code",
      "source": [
        "#there are 120 test images of 28x28 size.\n",
        "print(test_images.shape)"
      ],
      "metadata": {
        "colab": {
          "base_uri": "https://localhost:8080/"
        },
        "id": "uAFPNKghA1cH",
        "outputId": "10382983-4e87-4dbc-f2f1-e9182886d278"
      },
      "execution_count": 49,
      "outputs": [
        {
          "output_type": "stream",
          "name": "stdout",
          "text": [
            "(120, 28, 28)\n"
          ]
        }
      ]
    },
    {
      "cell_type": "code",
      "source": [
        "#if we have 120 test images, then there must be 120 lebels for each image.\n",
        "print(test_labels.shape)"
      ],
      "metadata": {
        "colab": {
          "base_uri": "https://localhost:8080/"
        },
        "id": "ZUzwKHd4A1e6",
        "outputId": "05559c92-4c2c-494f-cf51-69a831a4b068"
      },
      "execution_count": 61,
      "outputs": [
        {
          "output_type": "stream",
          "name": "stdout",
          "text": [
            "(120,)\n"
          ]
        }
      ]
    },
    {
      "cell_type": "code",
      "source": [
        "# Find the unique numbers from the train labels\n",
        "unique_labels = np.unique(train_labels)\n",
        "print('unique lebels : ', unique_labels)"
      ],
      "metadata": {
        "colab": {
          "base_uri": "https://localhost:8080/"
        },
        "id": "rx448ZxYA1hk",
        "outputId": "47e51300-846b-4422-f010-ab0fc4b7094c"
      },
      "execution_count": 63,
      "outputs": [
        {
          "output_type": "stream",
          "name": "stdout",
          "text": [
            "unique lebels :  [0 1 2 3 4 5 6 7 8 9]\n"
          ]
        }
      ]
    },
    {
      "cell_type": "code",
      "source": [
        "classes_num = len(unique_labels)\n",
        "print('Total number of classes : ', classes_num)"
      ],
      "metadata": {
        "colab": {
          "base_uri": "https://localhost:8080/"
        },
        "id": "p5aRpSVDA1kO",
        "outputId": "9f2338a6-bd78-47b3-aa2f-d822d4f39f3d"
      },
      "execution_count": 65,
      "outputs": [
        {
          "output_type": "stream",
          "name": "stdout",
          "text": [
            "Total number of classes :  10\n"
          ]
        }
      ]
    },
    {
      "cell_type": "code",
      "source": [
        "plt.figure(figsize=[10,5])\n",
        "\n",
        "# Display the third image in training data\n",
        "plt.subplot(121)\n",
        "#there are 480 boxes, us me se third box pe jao, wahan ki sari rows aur saray coloumns get kro, mtlb third image get kro\n",
        "plt.imshow(train_images[2,:,:], cmap='gray')          #plt.imshow(train_images[2], cmap='gray')  \n",
        "plt.title(\"Ground Truth : {}\".format(train_labels[2]))  #show the label of your image accordingly"
      ],
      "metadata": {
        "colab": {
          "base_uri": "https://localhost:8080/",
          "height": 335
        },
        "id": "zRafB40XA1m3",
        "outputId": "ff34d958-4298-4cd9-97de-ccbd7aeb73c7"
      },
      "execution_count": 67,
      "outputs": [
        {
          "output_type": "execute_result",
          "data": {
            "text/plain": [
              "Text(0.5, 1.0, 'Ground Truth : 4')"
            ]
          },
          "metadata": {},
          "execution_count": 67
        },
        {
          "output_type": "display_data",
          "data": {
            "text/plain": [
              "<Figure size 720x360 with 1 Axes>"
            ],
            "image/png": "[encoded data removed]"
          },
          "metadata": {
            "needs_background": "light"
          }
        }
      ]
    },
    {
      "cell_type": "code",
      "source": [
        "# Display the sixth image in testing data\n",
        "plt.subplot(122)\n",
        "plt.imshow(test_images[5,:,:], cmap='gray')\n",
        "plt.title(\"Ground Truth : {}\".format(test_labels[5]))"
      ],
      "metadata": {
        "colab": {
          "base_uri": "https://localhost:8080/",
          "height": 233
        },
        "id": "An0jHj6KA1pV",
        "outputId": "497648e4-9632-48e5-a0b8-d4df2e5f6849"
      },
      "execution_count": 68,
      "outputs": [
        {
          "output_type": "execute_result",
          "data": {
            "text/plain": [
              "Text(0.5, 1.0, 'Ground Truth : 2')"
            ]
          },
          "metadata": {},
          "execution_count": 68
        },
        {
          "output_type": "display_data",
          "data": {
            "text/plain": [
              "<Figure size 432x288 with 1 Axes>"
            ],
            "image/png": "[encoded data removed]"
          },
          "metadata": {
            "needs_background": "light"
          }
        }
      ]
    },
    {
      "cell_type": "code",
      "source": [
        "# Change from matrix to array of dimension 28x28 to array of dimension 784\n",
        "dim_data = np.prod(train_images.shape[1:])\n",
        "print(\"dim_data:\", dim_data)"
      ],
      "metadata": {
        "id": "MA776cDNA1ru"
      },
      "execution_count": null,
      "outputs": []
    },
    {
      "cell_type": "code",
      "source": [
        "# getting the number of pixels in one image\n",
        "#np.prod returns the product of entries in image.\n",
        "#train_images.shape[1:] prints (28,28) so 28*28=784\n",
        "dim_data = np.prod(train_images.shape[1:])\n",
        "print(\"dim_data:\", dim_data)"
      ],
      "metadata": {
        "colab": {
          "base_uri": "https://localhost:8080/"
        },
        "id": "zp7bAK9GA1vg",
        "outputId": "9c74e86a-04e9-4fcf-d34c-1b25cb20227a"
      },
      "execution_count": 70,
      "outputs": [
        {
          "output_type": "stream",
          "name": "stdout",
          "text": [
            "dim_data: 784\n"
          ]
        }
      ]
    },
    {
      "cell_type": "code",
      "source": [
        "#converting train_images(480,28,28) to (480,784) => keeping all the pixels of 2d image in one d array. => hr image k against aik row(1d array) ho gi aur us row me 784 coloumns(pixels) hon gy image k\n",
        "train_data = train_images.reshape(train_images.shape[0], dim_data)\n",
        "test_data = test_images.reshape(test_images.shape[0], dim_data)"
      ],
      "metadata": {
        "id": "Qk4jEHU_KXSt"
      },
      "execution_count": 71,
      "outputs": []
    },
    {
      "cell_type": "code",
      "source": [
        "print(train_data.shape)\n",
        "print(test_data.shape)"
      ],
      "metadata": {
        "colab": {
          "base_uri": "https://localhost:8080/"
        },
        "id": "kCEQqcduKXVO",
        "outputId": "6f06ffd1-842c-46cb-efed-55fa724f145d"
      },
      "execution_count": 73,
      "outputs": [
        {
          "output_type": "stream",
          "name": "stdout",
          "text": [
            "(480, 784)\n",
            "(120, 784)\n"
          ]
        }
      ]
    },
    {
      "cell_type": "code",
      "source": [
        "# Change to float datatype\n",
        "train_data = train_data.astype('float32')\n",
        "test_data = test_data.astype('float32')"
      ],
      "metadata": {
        "id": "6zh7VzkOKXXw"
      },
      "execution_count": 77,
      "outputs": []
    },
    {
      "cell_type": "code",
      "source": [
        "# Change the labels from integer to categorical data\n",
        "#categorical data converts your labels to one hot (binary vector) => since there are 10 classes so there will be ten one_hot vectors\n",
        "#each hot vector is defining one class\n",
        "train_labels_one_hot = to_categorical(train_labels)\n",
        "test_labels_one_hot = to_categorical(test_labels)"
      ],
      "metadata": {
        "id": "Mm3MBseTKXaW"
      },
      "execution_count": 78,
      "outputs": []
    },
    {
      "cell_type": "code",
      "source": [
        "# train_labels were containing 480 entries and there were 10 different entries. so its size becomes 480 by 10.\n",
        "print(train_labels_one_hot.shape)\n",
        "print(test_labels_one_hot.shape)"
      ],
      "metadata": {
        "colab": {
          "base_uri": "https://localhost:8080/"
        },
        "id": "FJ6TGl9PKXcs",
        "outputId": "ced9e807-8cc8-419b-adf7-169439ca7e38"
      },
      "execution_count": 80,
      "outputs": [
        {
          "output_type": "stream",
          "name": "stdout",
          "text": [
            "(480, 10)\n",
            "(120, 10)\n"
          ]
        }
      ]
    },
    {
      "cell_type": "code",
      "source": [
        "#this is hot vector dfined against images have label 6.\n",
        "print(train_labels[0],train_labels_one_hot[0])"
      ],
      "metadata": {
        "colab": {
          "base_uri": "https://localhost:8080/"
        },
        "id": "ky0q6GsKKXfn",
        "outputId": "010bd586-e9e9-49a7-9356-184f70a5d57f"
      },
      "execution_count": 85,
      "outputs": [
        {
          "output_type": "stream",
          "name": "stdout",
          "text": [
            "6 [0. 0. 0. 0. 0. 0. 1. 0. 0. 0.]\n"
          ]
        }
      ]
    },
    {
      "cell_type": "code",
      "source": [
        "#---------------Create the Network Architecure-------------------"
      ],
      "metadata": {
        "id": "42doEdwHKXhv"
      },
      "execution_count": 86,
      "outputs": []
    },
    {
      "cell_type": "code",
      "source": [
        "#creating model\n",
        "from tensorflow.keras.models import Sequential\n",
        "from tensorflow.keras.layers import Dense\n",
        "\n",
        "#building model, There are two types of models,1-sequential and recurrent(recursion) => we will use sequaential model\n",
        "model = Sequential()\n",
        "\n",
        "#adding hidden layers in model\n",
        "#there are 256 neurons in layer, this layer will use relu as activation function, \n",
        "model.add(Dense(256, activation='relu'))\n",
        "#this layer will include 512 neurons\n",
        "model.add(Dense(512, activation='relu'))\n",
        "#this is final output layer which will have neurons=number of classes=10, we will use softmax activation function because it is probability distribution function\n",
        "model.add(Dense(classes_num, activation='softmax'))\n",
        "type(model)\n",
        "#we have compled network architecture"
      ],
      "metadata": {
        "colab": {
          "base_uri": "https://localhost:8080/"
        },
        "id": "NBd10m-pKXkD",
        "outputId": "c4b4aaeb-b1f2-4e27-ad29-7e079f6fb3a0"
      },
      "execution_count": 87,
      "outputs": [
        {
          "output_type": "execute_result",
          "data": {
            "text/plain": [
              "keras.engine.sequential.Sequential"
            ]
          },
          "metadata": {},
          "execution_count": 87
        }
      ]
    },
    {
      "cell_type": "code",
      "source": [
        "#configure the network or defining some parameters for training\n",
        "#An optimizer is a function or an algorithm that modifies the attributes of the neural network, such as weights and learning rate.\n",
        "#loss defines any loss function\n",
        "#there are some metrics persision, accuracy etc on which basic we evaluate the DL models.\n",
        "#Metrics help in evaluating deep learning models. Metrics are used to monitor and measure the performance of model.\n",
        "model.compile(optimizer='adam', loss='categorical_crossentropy', metrics=['accuracy'])"
      ],
      "metadata": {
        "id": "59vCVlooKXmp"
      },
      "execution_count": 89,
      "outputs": []
    },
    {
      "cell_type": "code",
      "source": [
        "#train the model\n",
        "\n",
        "#epoch => one forward pass and one backword pass make one epoch\n",
        "#batch => one epoch is too big to feed to the computer so we divide it in several batches\n",
        "#btach_size => total number of training examples/images in one batch\n",
        "#iteratiuons => are total number of batches in one epoch\n",
        "\n",
        "#there are 15 epochs, it means \n",
        "history = model.fit(train_data, train_labels_one_hot, batch_size=128, epochs=15, verbose=1, \n",
        "                   validation_data=(test_data, test_labels_one_hot))"
      ],
      "metadata": {
        "colab": {
          "base_uri": "https://localhost:8080/"
        },
        "id": "Pno0dloqKXpH",
        "outputId": "4cb584e6-d4e7-4796-b128-6e84e2bfd9cc"
      },
      "execution_count": 90,
      "outputs": [
        {
          "output_type": "stream",
          "name": "stdout",
          "text": [
            "Epoch 1/15\n",
            "4/4 [==============================] - 1s 80ms/step - loss: 72.4681 - accuracy: 0.2479 - val_loss: 31.3647 - val_accuracy: 0.5583\n",
            "Epoch 2/15\n",
            "4/4 [==============================] - 0s 18ms/step - loss: 26.4352 - accuracy: 0.6167 - val_loss: 14.0257 - val_accuracy: 0.6167\n",
            "Epoch 3/15\n",
            "4/4 [==============================] - 0s 17ms/step - loss: 6.9781 - accuracy: 0.7563 - val_loss: 10.9684 - val_accuracy: 0.5917\n",
            "Epoch 4/15\n",
            "4/4 [==============================] - 0s 25ms/step - loss: 4.8479 - accuracy: 0.8042 - val_loss: 6.9976 - val_accuracy: 0.6750\n",
            "Epoch 5/15\n",
            "4/4 [==============================] - 0s 17ms/step - loss: 1.5621 - accuracy: 0.8958 - val_loss: 6.5894 - val_accuracy: 0.7250\n",
            "Epoch 6/15\n",
            "4/4 [==============================] - 0s 17ms/step - loss: 1.3883 - accuracy: 0.8958 - val_loss: 6.4588 - val_accuracy: 0.7250\n",
            "Epoch 7/15\n",
            "4/4 [==============================] - 0s 25ms/step - loss: 0.3056 - accuracy: 0.9667 - val_loss: 6.6326 - val_accuracy: 0.7417\n",
            "Epoch 8/15\n",
            "4/4 [==============================] - 0s 28ms/step - loss: 0.1128 - accuracy: 0.9729 - val_loss: 6.7316 - val_accuracy: 0.7417\n",
            "Epoch 9/15\n",
            "4/4 [==============================] - 0s 38ms/step - loss: 0.0405 - accuracy: 0.9896 - val_loss: 6.4129 - val_accuracy: 0.7583\n",
            "Epoch 10/15\n",
            "4/4 [==============================] - 0s 63ms/step - loss: 0.0256 - accuracy: 0.9917 - val_loss: 6.0741 - val_accuracy: 0.7583\n",
            "Epoch 11/15\n",
            "4/4 [==============================] - 0s 40ms/step - loss: 0.0053 - accuracy: 0.9979 - val_loss: 5.6703 - val_accuracy: 0.7667\n",
            "Epoch 12/15\n",
            "4/4 [==============================] - 0s 42ms/step - loss: 0.0013 - accuracy: 1.0000 - val_loss: 5.4022 - val_accuracy: 0.7917\n",
            "Epoch 13/15\n",
            "4/4 [==============================] - 0s 59ms/step - loss: 4.7916e-05 - accuracy: 1.0000 - val_loss: 5.2614 - val_accuracy: 0.8000\n",
            "Epoch 14/15\n",
            "4/4 [==============================] - 0s 24ms/step - loss: 2.3619e-05 - accuracy: 1.0000 - val_loss: 5.1863 - val_accuracy: 0.8000\n",
            "Epoch 15/15\n",
            "4/4 [==============================] - 0s 31ms/step - loss: 2.8304e-05 - accuracy: 1.0000 - val_loss: 5.1339 - val_accuracy: 0.8000\n"
          ]
        }
      ]
    },
    {
      "cell_type": "code",
      "source": [
        "\n",
        "#how much your data trained well, test it/evaluate it.\n",
        "[test_loss, test_acc] = model.evaluate(test_data, test_labels_one_hot)\n",
        "print(\"Evaluation result on Test Data : Loss = {}, accuracy = {}\".format(test_loss, test_acc))"
      ],
      "metadata": {
        "colab": {
          "base_uri": "https://localhost:8080/"
        },
        "id": "6MHHEBkhKXrx",
        "outputId": "691be8f8-914e-4429-88f2-0352f0b00a56"
      },
      "execution_count": 91,
      "outputs": [
        {
          "output_type": "stream",
          "name": "stdout",
          "text": [
            "4/4 [==============================] - 0s 4ms/step - loss: 5.1339 - accuracy: 0.8000\n",
            "Evaluation result on Test Data : Loss = 5.133871555328369, accuracy = 0.800000011920929\n"
          ]
        }
      ]
    },
    {
      "cell_type": "code",
      "source": [
        ""
      ],
      "metadata": {
        "id": "ieiRU0ZbKXvO"
      },
      "execution_count": null,
      "outputs": []
    }
  ]
}