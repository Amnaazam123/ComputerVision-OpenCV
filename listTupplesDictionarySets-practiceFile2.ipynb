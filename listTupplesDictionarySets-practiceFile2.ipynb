{
 "cells": [
  {
   "cell_type": "code",
   "execution_count": 34,
   "metadata": {},
   "outputs": [
    {
     "name": "stdout",
     "output_type": "stream",
     "text": [
      "After addition ['Hello', 'Hi', 789]\n",
      "After removal:  ['Hi', 789]\n",
      "New list :  ['Amna', 123, 'Azam']\n",
      "List1 size 2\n",
      "List2 size 3\n",
      "CombinedList:  ['Hi', 789, 'Amna', 123, 'Azam']  with length  5\n"
     ]
    }
   ],
   "source": [
    "myList1 =[]                           #empty list declaration\n",
    "\n",
    "#adding items in list\n",
    "myList1.append(\"Hello\")\n",
    "myList1.append(\"Hi\")\n",
    "myList1.append(789)\n",
    "print(\"After addition\",myList1)\n",
    "\n",
    "#removing item from list\n",
    "myList1.remove(myList1[0])          #myList1.remove(\"Hello\")\n",
    "print(\"After removal: \",myList1)\n",
    "\n",
    "\n",
    "myList2 =['Amna',123,\"Azam\"]          #list may be hetrogeneous\n",
    "print(\"New list : \", myList2)\n",
    "print(\"List1 size\",len(myList1))\n",
    "print(\"List2 size\", len(myList2))\n",
    "\n",
    "combineLists=myList1 + myList2\n",
    "print(\"CombinedList: \",combineLists,\" with length \",len(combineLists))\n",
    "\n",
    "del combineLists\n",
    "#print(combineLists)         #ERROR!!!\n"
   ]
  },
  {
   "cell_type": "code",
   "execution_count": 4,
   "metadata": {},
   "outputs": [
    {
     "name": "stdout",
     "output_type": "stream",
     "text": [
      "[' Ammnna', 123, 'Azam']\n",
      "<class 'list'>\n"
     ]
    }
   ],
   "source": [
    "myList2[0]=\" Ammnna\"\n",
    "print(myList2)\n",
    "print(type(myList2))"
   ]
  },
  {
   "cell_type": "code",
   "execution_count": 19,
   "metadata": {},
   "outputs": [
    {
     "name": "stdout",
     "output_type": "stream",
     "text": [
      "Max Num: 9\n",
      "Min Num: 0\n",
      "[0, 1, 2, 3, 5, 5, 8, 9]\n",
      "[9, 8, 5, 5, 3, 2, 1, 0]\n",
      "[0, 1, 2, 3, 5, 5, 8, 9]\n"
     ]
    }
   ],
   "source": [
    "#Make sure sort/Max/Min function can not be called for hetrogeneius list.\n",
    "myList3=[1,5,2,8,9,3,5,0]\n",
    "print(\"Max Num:\",max(myList3))\n",
    "print(\"Min Num:\",min(myList3))\n",
    "myList3.sort()    #mutable\n",
    "print(myList3)\n",
    "\n",
    "print(sorted(myList3,reverse=True))      #immutable\n",
    "print(myList3)"
   ]
  },
  {
   "cell_type": "code",
   "execution_count": 37,
   "metadata": {},
   "outputs": [
    {
     "name": "stdout",
     "output_type": "stream",
     "text": [
      "[0, 1, 2, 3, 5, 5, 8, 9]\n",
      "[5, 8, 9]\n",
      "[0, 1, 2, 3, 5]\n",
      "[1]\n"
     ]
    }
   ],
   "source": [
    "print(myList3[:])          #complete list\n",
    "print(myList3[5:])         #list from index 5(inclusive) to end\n",
    "print(myList3[:5])         #list from start to index 5(exculsive)\n",
    "print(myList3[1:2])        #list from index 1(inclusive) to index 2(exclusive)"
   ]
  },
  {
   "cell_type": "code",
   "execution_count": 7,
   "metadata": {},
   "outputs": [
    {
     "name": "stdout",
     "output_type": "stream",
     "text": [
      "[1, 25, 4, 64, 81, 9, 25, 0]\n"
     ]
    }
   ],
   "source": [
    "#---------------------------------------Infinite loop\n",
    "#for item in myList3:\n",
    "#    item = item*2\n",
    "#    myList3.append(item)\n",
    "#print(myList3)\n",
    "\n",
    "#----------------------------------------solution\n",
    "myList3=[1,5,2,8,9,3,5,0]\n",
    "squares=[]\n",
    "for item in myList3:\n",
    "   squares.append(item**2)         #squares = [item**2 for item in myList3]\n",
    "print(squares)"
   ]
  },
  {
   "cell_type": "code",
   "execution_count": 10,
   "metadata": {},
   "outputs": [
    {
     "name": "stdout",
     "output_type": "stream",
     "text": [
      "[2, 8]\n"
     ]
    }
   ],
   "source": [
    "#res = [num for num in myList3 if num % 2 == 0 and num>0]\n",
    "\n",
    "for num in myList3:\n",
    "    if(num%2==0 and num>0):\n",
    "        squares.append(num)\n",
    "\n",
    "print(res)"
   ]
  },
  {
   "cell_type": "code",
   "execution_count": 25,
   "metadata": {},
   "outputs": [
    {
     "name": "stdout",
     "output_type": "stream",
     "text": [
      "(1, 2, 'Amna')\n",
      "Amna\n",
      "(1, 2, 'Amna', 'Azam')\n"
     ]
    }
   ],
   "source": [
    "#tuples\n",
    "\n",
    "myTuple1=(1,2,'Amna')\n",
    "print(myTuple1)\n",
    "\n",
    "#tuples are accessed like lists\n",
    "print(myTuple1[2])\n",
    "\n",
    "#tuple object does not support item assignment\n",
    "#myTuple1[0]=100          ERROR!!\n",
    "\n",
    "#addingh value in tupple, use + operator\n",
    "added_Val_Tupple = ('Azam',)        #making value tuple bcz tuple can concatenate only with tuple\n",
    "myTuple1 = myTuple1 + added_Val_Tupple         \n",
    "print(myTuple1)\n"
   ]
  },
  {
   "cell_type": "code",
   "execution_count": 37,
   "metadata": {},
   "outputs": [
    {
     "name": "stdout",
     "output_type": "stream",
     "text": [
      "Amna\n",
      "{'firstName': 'Amna', 'lastName': 'Azam', 'ID': 9}\n",
      "None\n",
      "{'firstName': 'Ammnna', 'lastName': 'Azam', 'ID': 9}\n",
      "\n",
      "Printing dictionary\n",
      "firstName Ammnna\n",
      "lastName Azam\n",
      "ID 9\n"
     ]
    }
   ],
   "source": [
    "#dictionaries\n",
    "myDic = {\n",
    "    \"firstName\":\"Amna\",\n",
    "    \"lastName\":\"Azam\",\n",
    "    \"ID\":9\n",
    "}\n",
    "\n",
    "#dictionaries are accessed by key values\n",
    "print(myDic[\"firstName\"])\n",
    "print(myDic)\n",
    "print(myDic.get(\"Address\"))\n",
    "\n",
    "myDic[\"firstName\"] = \"Ammnna\"      # assig new element to firstName\n",
    "print(myDic)\n",
    "\n",
    "#printing dictionary\n",
    "print(\"\\nPrinting dictionary\")\n",
    "for x,y in myDic.items():\n",
    "    print(x,y)\n"
   ]
  },
  {
   "cell_type": "code",
   "execution_count": 51,
   "metadata": {},
   "outputs": [
    {
     "name": "stdout",
     "output_type": "stream",
     "text": [
      "{'obj1', 'obj3', 'obj2'}\n",
      "{'obj4', 'obj1', 'obj3', 'obj2'}\n",
      "{'obj4', 'obj1', 'obj2'}\n",
      "{'obj4', 'obj1', 'obj2'}\n",
      "obj4\n",
      "\n",
      "\n",
      "Printing elements of set\n",
      "obj4\n",
      "obj1\n",
      "obj2\n"
     ]
    }
   ],
   "source": [
    "#sets\n",
    "my_set = {\"obj1\", \"obj2\", \"obj3\"}\n",
    "print(my_set)\n",
    "\n",
    "#adding value in set\n",
    "my_set.add(\"obj4\")\n",
    "print(my_set)\n",
    "\n",
    "#removing value from set\n",
    "my_set.remove(\"obj3\")\n",
    "print(my_set)\n",
    "\n",
    "#does not add duplicate value\n",
    "my_set.add(\"obj4\")\n",
    "print(my_set)\n",
    "\n",
    "print(list(my_set)[0])             #printing one particular element of set\n",
    "\n",
    "print(\"\\n\\nPrinting elements of set\")\n",
    "for i in my_set:\n",
    "    print(i)"
   ]
  },
  {
   "cell_type": "code",
   "execution_count": null,
   "metadata": {},
   "outputs": [],
   "source": []
  }
 ],
 "metadata": {
  "kernelspec": {
   "display_name": "Python 3",
   "language": "python",
   "name": "python3"
  },
  "language_info": {
   "codemirror_mode": {
    "name": "ipython",
    "version": 3
   },
   "file_extension": ".py",
   "mimetype": "text/x-python",
   "name": "python",
   "nbconvert_exporter": "python",
   "pygments_lexer": "ipython3",
   "version": "3.8.5"
  }
 },
 "nbformat": 4,
 "nbformat_minor": 4
}
