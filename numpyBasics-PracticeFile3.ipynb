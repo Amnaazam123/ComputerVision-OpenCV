{
 "cells": [
  {
   "cell_type": "code",
   "execution_count": 41,
   "metadata": {},
   "outputs": [],
   "source": [
    "#importing numpy in your project\n",
    "import numpy as np\n",
    "\n",
    "#dimensions\n",
    "    #x\n",
    "    #x,y\n",
    "    #x,y,z\n",
    "#shapes(telling about number of rows,cols,width in image depending upon array)\n",
    "    #cols\n",
    "    #rows by cols\n",
    "    #rows by cols by width\n",
    "#size(telling about total number of elements in array)\n",
    "    \n"
   ]
  },
  {
   "cell_type": "code",
   "execution_count": 2,
   "metadata": {},
   "outputs": [
    {
     "data": {
      "text/plain": [
       "'1.19.2'"
      ]
     },
     "execution_count": 2,
     "metadata": {},
     "output_type": "execute_result"
    }
   ],
   "source": [
    "#checking the version of numpy\n",
    "np.version.version"
   ]
  },
  {
   "cell_type": "code",
   "execution_count": 9,
   "metadata": {
    "scrolled": true
   },
   "outputs": [
    {
     "name": "stdout",
     "output_type": "stream",
     "text": [
      "<class 'numpy.ndarray'>\n",
      "1\n",
      "(5,)\n",
      "5\n",
      "int32\n"
     ]
    }
   ],
   "source": [
    "#-----------------------------------------------1D array(collection of numbers)\n",
    "myArray = np.array([1,2,3,4,5])\n",
    "print(type(myArray))\n",
    "print(myArray.ndim)                          #for 1D=x,2D=x,y,3D=x,y,z\n",
    "print(myArray.shape)\n",
    "print(myArray.size)\n",
    "print(myArray.dtype)"
   ]
  },
  {
   "cell_type": "code",
   "execution_count": 14,
   "metadata": {},
   "outputs": [
    {
     "name": "stdout",
     "output_type": "stream",
     "text": [
      "2 (3, 3) 9\n"
     ]
    }
   ],
   "source": [
    "#------------------------------------------------2D array(collection of 1D arrays)\n",
    "myArray2=np.array([\n",
    "                    [1,2,3],     #1d\n",
    "                    [4,5,6],     #1d\n",
    "                    [7,8,9]      #1d\n",
    "                ])\n",
    "print(myArray2.ndim,myArray2.shape,myArray2.size)"
   ]
  },
  {
   "cell_type": "code",
   "execution_count": 39,
   "metadata": {},
   "outputs": [
    {
     "name": "stdout",
     "output_type": "stream",
     "text": [
      "3\n",
      "(5, 3, 4)\n",
      "60\n"
     ]
    }
   ],
   "source": [
    "#------------------------------------------------3D array(collection of 2D array)\n",
    "myArray3=np.array([\n",
    "    #2d\n",
    "        [\n",
    "            [1,2,3,4],\n",
    "            [4,5,6,5],\n",
    "            [7,8,9,6]\n",
    "        ], \n",
    "    #2d\n",
    "        [\n",
    "            [1,2,3,5],\n",
    "            [4,5,6,6],\n",
    "            [7,8,9,7]\n",
    "        ], \n",
    "    #2d\n",
    "        [\n",
    "             [1,2,3,1],\n",
    "             [4,5,6,2],\n",
    "             [7,8,9,3]\n",
    "        ], \n",
    "    #2d\n",
    "        [\n",
    "            [1,2,3,4],\n",
    "            [4,5,6,5],\n",
    "            [7,8,9,6]\n",
    "        ],\n",
    "    #2d\n",
    "        [\n",
    "             [1,2,3,1],\n",
    "             [4,5,6,2],\n",
    "             [7,8,9,3]\n",
    "        ]\n",
    "])\n",
    "\n",
    "print(myArray3.ndim)\n",
    "print(myArray3.shape)\n",
    "print(myArray3.size)"
   ]
  },
  {
   "cell_type": "code",
   "execution_count": 33,
   "metadata": {},
   "outputs": [
    {
     "name": "stdout",
     "output_type": "stream",
     "text": [
      "[[[0. 0.]\n",
      "  [0. 0.]]\n",
      "\n",
      " [[0. 0.]\n",
      "  [0. 0.]]]\n"
     ]
    }
   ],
   "source": [
    "#creating array of zeroes\n",
    "zarr=np.zeros((2,2,2))\n",
    "print(zarr)"
   ]
  },
  {
   "cell_type": "code",
   "execution_count": 24,
   "metadata": {},
   "outputs": [
    {
     "name": "stdout",
     "output_type": "stream",
     "text": [
      "[[1. 1. 1. 1. 1.]\n",
      " [1. 1. 1. 1. 1.]\n",
      " [1. 1. 1. 1. 1.]]\n"
     ]
    }
   ],
   "source": [
    "#creating array of ones\n",
    "oarr=np.ones((3,5))\n",
    "print(oarr)"
   ]
  },
  {
   "cell_type": "code",
   "execution_count": 25,
   "metadata": {},
   "outputs": [
    {
     "name": "stdout",
     "output_type": "stream",
     "text": [
      "[[18. 18. 18. 18. 18.]\n",
      " [18. 18. 18. 18. 18.]\n",
      " [18. 18. 18. 18. 18.]\n",
      " [18. 18. 18. 18. 18.]\n",
      " [18. 18. 18. 18. 18.]]\n"
     ]
    }
   ],
   "source": [
    "#creating array of 18\n",
    "oarr=np.ones((5,5))*18\n",
    "print(oarr)"
   ]
  },
  {
   "cell_type": "code",
   "execution_count": 30,
   "metadata": {},
   "outputs": [
    {
     "name": "stdout",
     "output_type": "stream",
     "text": [
      "[[126 456 456 456 456 456 456]\n",
      " [456 456 456 456 456 456 456]\n",
      " [456 456 456 456 456 456 456]\n",
      " [456 456 456 456 456 456 456]\n",
      " [456 456 456 456 456 456 456]]\n"
     ]
    }
   ],
   "source": [
    "#create constant array\n",
    "carr=np.full((5,7),456)\n",
    "carr[0][0]=126\n",
    "print(carr)"
   ]
  },
  {
   "cell_type": "code",
   "execution_count": 28,
   "metadata": {},
   "outputs": [
    {
     "name": "stdout",
     "output_type": "stream",
     "text": [
      "[[1. 0. 0. 0. 0. 0. 0. 0. 0. 0.]\n",
      " [0. 1. 0. 0. 0. 0. 0. 0. 0. 0.]\n",
      " [0. 0. 1. 0. 0. 0. 0. 0. 0. 0.]\n",
      " [0. 0. 0. 1. 0. 0. 0. 0. 0. 0.]\n",
      " [0. 0. 0. 0. 1. 0. 0. 0. 0. 0.]\n",
      " [0. 0. 0. 0. 0. 1. 0. 0. 0. 0.]\n",
      " [0. 0. 0. 0. 0. 0. 1. 0. 0. 0.]\n",
      " [0. 0. 0. 0. 0. 0. 0. 1. 0. 0.]\n",
      " [0. 0. 0. 0. 0. 0. 0. 0. 1. 0.]\n",
      " [0. 0. 0. 0. 0. 0. 0. 0. 0. 1.]]\n"
     ]
    }
   ],
   "source": [
    "#create an identity matrix\n",
    "iarr=np.eye(10)\n",
    "print(iarr)"
   ]
  },
  {
   "cell_type": "code",
   "execution_count": 29,
   "metadata": {},
   "outputs": [
    {
     "name": "stdout",
     "output_type": "stream",
     "text": [
      "[[0.22360854 0.03081277 0.41884753]\n",
      " [0.10443953 0.25536181 0.25116763]\n",
      " [0.7257112  0.69270706 0.92463646]]\n"
     ]
    }
   ],
   "source": [
    "rarr=np.random.random((3,3))\n",
    "print(rarr)"
   ]
  },
  {
   "cell_type": "code",
   "execution_count": 40,
   "metadata": {},
   "outputs": [
    {
     "name": "stdout",
     "output_type": "stream",
     "text": [
      "<class 'numpy.ndarray'>\n",
      "2\n",
      "(2, 3)\n",
      "6\n",
      "<U1\n"
     ]
    }
   ],
   "source": [
    "myArray=np.array([['r','e','d'],\n",
    "             [5,6,7]])\n",
    "print(type(myArray))\n",
    "print(myArray.ndim)                          #for 1D=x,2D=x,y,3D=x,y,z\n",
    "print(myArray.shape)\n",
    "print(myArray.size)\n",
    "print(myArray.dtype)"
   ]
  },
  {
   "cell_type": "code",
   "execution_count": null,
   "metadata": {},
   "outputs": [],
   "source": []
  }
 ],
 "metadata": {
  "kernelspec": {
   "display_name": "Python 3",
   "language": "python",
   "name": "python3"
  },
  "language_info": {
   "codemirror_mode": {
    "name": "ipython",
    "version": 3
   },
   "file_extension": ".py",
   "mimetype": "text/x-python",
   "name": "python",
   "nbconvert_exporter": "python",
   "pygments_lexer": "ipython3",
   "version": "3.8.5"
  }
 },
 "nbformat": 4,
 "nbformat_minor": 4
}
